{
 "cells": [
  {
   "cell_type": "markdown",
   "id": "3444727d-134b-4106-8c61-3dd682117880",
   "metadata": {},
   "source": [
    "# MedEye3d Walk through under various stress testing routines\n",
    " ```\n",
    "__  __          _ _____           _____     _ \n",
    "|  \\/  | ___  __| | ____|   _  ___|___ /  __| |\n",
    "| |\\/| |/ _ \\/ _` |  _|| | | |/ _ \\ |_ \\ / _` |\n",
    "| |  | |  __/ (_| | |__| |_| |  __/___) | (_| |\n",
    "|_|  |_|\\___|\\__,_|_____\\__, |\\___|____/ \\__,_|\n",
    "                        |___/\n",
    "```"
   ]
  },
  {
   "cell_type": "markdown",
   "id": "649573f5-10a1-4d73-af40-6cec9fe71e4f",
   "metadata": {},
   "source": [
    "## Make sure to export JULIA_NUM_THREADS=3,1 to run MedEye3d\n"
   ]
  },
  {
   "cell_type": "code",
   "execution_count": 4,
   "id": "11ee3c7e-4706-45f7-997d-518975d02955",
   "metadata": {},
   "outputs": [
    {
     "name": "stdout",
     "output_type": "stream",
     "text": [
      "3\n",
      "1\n"
     ]
    }
   ],
   "source": [
    "using Base.Threads\n",
    "println(nthreads(:default))\n",
    "println(nthreads(:interactive))"
   ]
  },
  {
   "cell_type": "markdown",
   "id": "72171189-2893-45d0-b0ea-f05a1f6eaa64",
   "metadata": {},
   "source": [
    "## Initialization of path variables and function arguments"
   ]
  },
  {
   "cell_type": "code",
   "execution_count": 1,
   "id": "be1352e1-d231-415e-b004-39b919c15fb2",
   "metadata": {},
   "outputs": [
    {
     "name": "stderr",
     "output_type": "stream",
     "text": [
      "\u001b[36m\u001b[1m[ \u001b[22m\u001b[39m\u001b[36m\u001b[1mInfo: \u001b[22m\u001b[39monly one type of modality at a time in multi-image is supported\n"
     ]
    },
    {
     "data": {
      "text/plain": [
       "2-element Vector{Vector{Tuple{String, String}}}:\n",
       " [(\"D:/mingw_installation/home/hurtbadly/Downloads/hdf5.nii.gz\", \"CT\")]\n",
       " [(\"D:/mingw_installation/home/hurtbadly/Downloads/hdf5.nii.gz\", \"CT\")]"
      ]
     },
     "execution_count": 1,
     "metadata": {},
     "output_type": "execute_result"
    }
   ],
   "source": [
    "using MedEye3d\n",
    "#Data downloaded from the following google drive links :\n",
    "\n",
    "# https://drive.google.com/file/d/1Segr6BC_ma9bKNmM8lzUBaJLQChkAWKA/view?usp=drive_link\n",
    "# https://drive.google.com/file/d/1PqHTQXOVTWx0FQSDE0oH4hRKNCE9jCx8/view?usp=drive_link\n",
    "#modify paths to your downloaded data accordingly\n",
    "ctNiftiImage = \"D:/mingw_installation/home/hurtbadly/Downloads/ct_soft_pat_3_sudy_0.nii.gz\"\n",
    "petNiftiImage = \"D:/mingw_installation/home/hurtbadly/Downloads/pet_orig_pat_3_sudy_0.nii.gz\"\n",
    "newImage = \"D:/mingw_installation/home/hurtbadly/Downloads/volume-0.nii.gz\"\n",
    "strangeSpacingImage = \"D:/mingw_installation/home/hurtbadly/Downloads/Output Volume_1.nii.gz\"\n",
    "extremeTestImage = \"D:/mingw_installation/home/hurtbadly/Downloads/extreme_test_one.nii.gz\"\n",
    "bmaNiftiImage = \"D:/mingw_installation/home/hurtbadly/Downloads/bma.nii.gz\"\n",
    "h5File = \"D:/mingw_installation/home/hurtbadly/Downloads/locc.h5\"\n",
    "h5NiftiImage = \"D:/mingw_installation/home/hurtbadly/Downloads/hdf5.nii.gz\"\n",
    "firstDicomImage = \"D:\\\\mingw_installation\\\\home\\\\hurtbadly\\\\Desktop\\\\julia_stuff\\\\MedImages.jl\\\\test_data\\\\ScalarVolume_0\\\\\"\n",
    "\n",
    "\"\"\"\n",
    "NOTE : only one type of modality at a time in multi-image is supported.\n",
    "\"\"\"\n",
    "NOTE = \"only one type of modality at a time in multi-image is supported\"\n",
    "@info NOTE\n",
    "\n",
    "# For Single Image Mode\n",
    "dicomImageArg = (firstDicomImage,\"CT\")\n",
    "petImageArg = (petNiftiImage, \"PET\")\n",
    "ctImageArg = (ctNiftiImage, \"CT\")\n",
    "h5ImageArg = (h5NiftiImage, \"CT\")\n",
    "\n",
    "# -- Overlaid images in SIngle image mode (Requires work)\n",
    "petOverlaidImagesArg = [ctImageArg, petImageArg]\n",
    "\n",
    "\n",
    "#For multi image display\n",
    "dicomImagesArg = [[dicomImageArg],[dicomImageArg]]\n",
    "petImagesArg = [[petImageArg], [petImageArg]]\n",
    "ctImagesArg = [[ctImageArg],[ctImageArg]]\n",
    "h5ImagesArg  =[[h5ImageArg], [h5ImageArg]] "
   ]
  },
  {
   "cell_type": "markdown",
   "id": "9be8476c-18cb-4129-8a22-28974e507e1b",
   "metadata": {},
   "source": [
    "## Single Image Display for PET Modality"
   ]
  },
  {
   "cell_type": "code",
   "execution_count": null,
   "id": "c9b2e26f-5d0e-4eed-870c-d4bfd8b97d96",
   "metadata": {},
   "outputs": [],
   "source": [
    "using MedEye3d\n",
    "medEyeStruct = MedEye3d.SegmentationDisplay.displayImage(petImageArg) #singleImageDisplay"
   ]
  },
  {
   "cell_type": "markdown",
   "id": "f67705a6-d4c2-4023-9626-98b2f7d1c791",
   "metadata": {},
   "source": [
    "## Single Image Display for CT Modality"
   ]
  },
  {
   "cell_type": "code",
   "execution_count": null,
   "id": "e2b3306b-11be-49db-9964-e6692f0aeaec",
   "metadata": {},
   "outputs": [],
   "source": [
    "using MedEye3d\n",
    "medEyeStruct = MedEye3d.SegmentationDisplay.displayImage(ctImageArg) #singleImageDisplay"
   ]
  },
  {
   "cell_type": "markdown",
   "id": "c7ceca5c-a24e-4a60-812e-bccd9ae88fce",
   "metadata": {},
   "source": [
    "## Single Image mode with supervoxels\n"
   ]
  },
  {
   "cell_type": "code",
   "execution_count": 4,
   "id": "ea67e183-2f76-4913-9f06-ba5ca37ce032",
   "metadata": {
    "collapsed": true,
    "jupyter": {
     "outputs_hidden": true
    }
   },
   "outputs": [
    {
     "name": "stderr",
     "output_type": "stream",
     "text": [
      "\u001b[36m\u001b[1m[ \u001b[22m\u001b[39m\u001b[36m\u001b[1mInfo: \u001b[22m\u001b[39mSuccessfully created new NIfTI file at D:/mingw_installation/home/hurtbadly/Downloads/hdf5.nii.gz\n",
      "\u001b[36m\u001b[1m[ \u001b[22m\u001b[39m\u001b[36m\u001b[1mInfo: \u001b[22m\u001b[39mGenerating supervoxels for axis 1\n",
      "\u001b[36m\u001b[1m[ \u001b[22m\u001b[39m\u001b[36m\u001b[1mInfo: \u001b[22m\u001b[39mGenerating supervoxels for axis 2\n",
      "\u001b[36m\u001b[1m[ \u001b[22m\u001b[39m\u001b[36m\u001b[1mInfo: \u001b[22m\u001b[39mGenerating supervoxels for axis 3\n",
      "\u001b[36m\u001b[1m[ \u001b[22m\u001b[39m\u001b[36m\u001b[1mInfo: \u001b[22m\u001b[39mSupervoxels generated for all axes\n"
     ]
    },
    {
     "name": "stdout",
     "output_type": "stream",
     "text": [
      "Dict{Symbol, Any}(:gl_version => v\"4.6.0\", :gl_renderer => \"NVIDIA GeForce GTX 1650 SUPER/PCIe/SSE2\", :glsl_version => v\"4.60.0\", :gl_vendor => \"NVIDIA Corporation\")\n"
     ]
    },
    {
     "name": "stderr",
     "output_type": "stream",
     "text": [
      "\u001b[36m\u001b[1m[ \u001b[22m\u001b[39m\u001b[36m\u001b[1mInfo: \u001b[22m\u001b[39m!! Crosshair rendering is currently only supported in Multi image display mode !!\n"
     ]
    },
    {
     "data": {
      "text/plain": [
       "MedEye3d.ForDisplayStructs.MainMedEye3d\n",
       "  channel: Channel{Any}\n",
       "  voxelArrayShapes: Array{Tuple{Int64, Int64, Int64}}((2,))\n",
       "  voxelArrayTypes: Array{Any}((2,))\n",
       "  textDispObj: MedEye3d.ForDisplayStructs.ForWordsDispStruct\n",
       "  states: Array{MedEye3d.ForDisplayStructs.StateDataFields}((0,))\n",
       "  displayMode: MedEye3d.ForDisplayStructs.DisplayMode MedEye3d.ForDisplayStructs.SingleImage\n"
      ]
     },
     "execution_count": 4,
     "metadata": {},
     "output_type": "execute_result"
    }
   ],
   "source": [
    "using MedEye3d\n",
    "# Supervoxels\n",
    "# For conversion of h5 to nifti\n",
    "MedEye3d.ShadersAndVerticiesForSupervoxels.populateNiftiWithH5(ctNiftiImage, h5File, h5NiftiImage)\n",
    "\n",
    "# for visualization\n",
    "supervoxelDict = MedEye3d.ShadersAndVerticiesForSupervoxels.processVerticesAndIndicesForSv(h5File, \"tetr_dat\")\n",
    "medEyeStruct = MedEye3d.SegmentationDisplay.displayImage(h5ImageArg; all_supervoxels=supervoxelDict)\n"
   ]
  },
  {
   "cell_type": "markdown",
   "id": "80ed6bef-4275-4368-8c0f-d80ca1b064c1",
   "metadata": {},
   "source": [
    "## Modification of Display Data on the screen"
   ]
  },
  {
   "cell_type": "code",
   "execution_count": 6,
   "id": "58f2273a-403a-4716-8565-a904c85029b4",
   "metadata": {},
   "outputs": [
    {
     "name": "stderr",
     "output_type": "stream",
     "text": [
      "\u001b[36m\u001b[1m[ \u001b[22m\u001b[39m\u001b[36m\u001b[1mInfo: \u001b[22m\u001b[39mSuccessfully created new NIfTI file at D:/mingw_installation/home/hurtbadly/Downloads/hdf5.nii.gz\n",
      "\u001b[36m\u001b[1m[ \u001b[22m\u001b[39m\u001b[36m\u001b[1mInfo: \u001b[22m\u001b[39mGenerating supervoxels for axis 1\n",
      "\u001b[36m\u001b[1m[ \u001b[22m\u001b[39m\u001b[36m\u001b[1mInfo: \u001b[22m\u001b[39mGenerating supervoxels for axis 2\n",
      "\u001b[36m\u001b[1m[ \u001b[22m\u001b[39m\u001b[36m\u001b[1mInfo: \u001b[22m\u001b[39mGenerating supervoxels for axis 3\n",
      "\u001b[36m\u001b[1m[ \u001b[22m\u001b[39m\u001b[36m\u001b[1mInfo: \u001b[22m\u001b[39mSupervoxels generated for all axes\n"
     ]
    },
    {
     "name": "stdout",
     "output_type": "stream",
     "text": [
      "Dict{Symbol, Any}(:gl_version => v\"4.6.0\", :gl_renderer => \"NVIDIA GeForce GTX 1650 SUPER/PCIe/SSE2\", :glsl_version => v\"4.60.0\", :gl_vendor => \"NVIDIA Corporation\")\n"
     ]
    },
    {
     "name": "stderr",
     "output_type": "stream",
     "text": [
      "\u001b[36m\u001b[1m[ \u001b[22m\u001b[39m\u001b[36m\u001b[1mInfo: \u001b[22m\u001b[39m!! Crosshair rendering is currently only supported in Multi image display mode !!\n",
      "\u001b[36m\u001b[1m[ \u001b[22m\u001b[39m\u001b[36m\u001b[1mInfo: \u001b[22m\u001b[39mProgram going in sleep\n",
      "\u001b[36m\u001b[1m[ \u001b[22m\u001b[39m\u001b[36m\u001b[1mInfo: \u001b[22m\u001b[39mProgram out of sleep\n",
      "\u001b[36m\u001b[1m┌ \u001b[22m\u001b[39m\u001b[36m\u001b[1mInfo: \u001b[22m\u001b[39mlook here\n",
      "\u001b[36m\u001b[1m└ \u001b[22m\u001b[39m  typeof(displayData) = Vector{Array{Float32, 3}}\u001b[90m (alias for \u001b[39m\u001b[90mArray{Array{Float32, 3}, 1}\u001b[39m\u001b[90m)\u001b[39m\n"
     ]
    },
    {
     "data": {
      "text/plain": [
       "MedEye3d.ForDisplayStructs.CustomDisplayedVoxels\n",
       "  voxelData: Array{Array{Float32, 3}}((2,))\n"
      ]
     },
     "execution_count": 6,
     "metadata": {},
     "output_type": "execute_result"
    }
   ],
   "source": [
    "using MedEye3d\n",
    "# Supervoxels\n",
    "# For conversion of h5 to nifti\n",
    "MedEye3d.ShadersAndVerticiesForSupervoxels.populateNiftiWithH5(ctNiftiImage, h5File, h5NiftiImage)\n",
    "\n",
    "# for visualization\n",
    "supervoxelDict = MedEye3d.ShadersAndVerticiesForSupervoxels.processVerticesAndIndicesForSv(h5File, \"tetr_dat\")\n",
    "medEyeStruct = MedEye3d.SegmentationDisplay.displayImage(h5ImageArg; all_supervoxels=supervoxelDict)\n",
    "\n",
    "# For modification of display data\n",
    "displayData = MedEye3d.DisplayDataManag.getDisplayedData(medEyeStruct, [Int32(1), Int32(2)]) #passing the active texture number\n",
    "#we need to check if the return type of the displayData is a single Array{Float32,3} or a vector{Array{Float32,3}}\n",
    "# now in this case we are setting random noise over the manualModif Texture voxel layer, and the manualModif texture defaults to 2 for active number\n",
    "displayData[2][:, :, :] = randn(Float32, size(displayData[2]))\n",
    "@info \"look here\" typeof(displayData)\n",
    "MedEye3d.DisplayDataManag.setDisplayedData(medEyeStruct, displayData)"
   ]
  },
  {
   "cell_type": "markdown",
   "id": "ebe36bc8-e457-4bf7-9ee7-8b1430c678ff",
   "metadata": {},
   "source": [
    "## Multi Image Display Mode with Crosshair rendering"
   ]
  },
  {
   "cell_type": "code",
   "execution_count": 2,
   "id": "2f61e4a8-d1ea-47e4-aba1-23fc9d8d3fe7",
   "metadata": {},
   "outputs": [
    {
     "name": "stdout",
     "output_type": "stream",
     "text": [
      "Dict{Symbol, Any}(:gl_version => v\"4.6.0\", :gl_renderer => \"NVIDIA GeForce GTX 1650 SUPER/PCIe/SSE2\", :glsl_version => v\"4.60.0\", :gl_vendor => \"NVIDIA Corporation\")\n"
     ]
    },
    {
     "name": "stderr",
     "output_type": "stream",
     "text": [
      "\u001b[36m\u001b[1m[ \u001b[22m\u001b[39m\u001b[36m\u001b[1mInfo: \u001b[22m\u001b[39m!! On Screen Voxel modification is currently only supported in Single image display mode !!\n"
     ]
    },
    {
     "data": {
      "text/plain": [
       "MedEye3d.ForDisplayStructs.MainMedEye3d\n",
       "  channel: Channel{Any}\n",
       "  voxelArrayShapes: Array{Tuple{Int64, Int64, Int64}}((0,))\n",
       "  voxelArrayTypes: Array{Any}((0,))\n",
       "  textDispObj: MedEye3d.ForDisplayStructs.ForWordsDispStruct\n",
       "  states: Array{MedEye3d.ForDisplayStructs.StateDataFields}((0,))\n",
       "  displayMode: MedEye3d.ForDisplayStructs.DisplayMode MedEye3d.ForDisplayStructs.MultiImage\n"
      ]
     },
     "execution_count": 2,
     "metadata": {},
     "output_type": "execute_result"
    }
   ],
   "source": [
    "using MedEye3d\n",
    "medEyeStruct = MedEye3d.SegmentationDisplay.displayImage(h5ImagesArg) #multi image displays"
   ]
  }
 ],
 "metadata": {
  "kernelspec": {
   "display_name": "Julia 1.11.3",
   "language": "julia",
   "name": "julia-1.11"
  },
  "language_info": {
   "file_extension": ".jl",
   "mimetype": "application/julia",
   "name": "julia",
   "version": "1.11.3"
  }
 },
 "nbformat": 4,
 "nbformat_minor": 5
}
